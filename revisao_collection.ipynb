{
 "cells": [
  {
   "cell_type": "markdown",
   "metadata": {},
   "source": [
    "# Tipos de coleções Pandas:\n",
    "- Lista [] - list\n",
    "- Tupla () - tuple\n",
    "- Conjuntos {} - set\n",
    "- Dicionários {} Diferença = Tem um conceito chave e um valor. \n",
    "\n",
    "# Diferença de lista e Tupla\n",
    "Tecnicamente a lista é passível de mudança (pode adicionar, excluir). \n",
    "Tupla - É estática, não muda (Exemplo: CPF, PI ). Pode ser aplicado nas colunas do DataSet de alugueis. Só usar quando ver que os dados não mudam. \n",
    "\n",
    "# Conjuntos\n",
    "Quando se usa um conjunto por mais que se tenha muitos dados repetidos, mostrará valores úmicos. Não vai repetir os dados. Os conjuntos tiram os dados repetidos.\n",
    "\n",
    "# Dicionário\n",
    "{manga} resposta do significado de manga. Coleção de pares, chave e valor, onde cada chave é única. \n",
    "De todas a mais interessante o dicionário, pois imita o Data Frame. Tem uma chave {manga} e um valor {significado}.\n",
    "acessando o valor do dicionário: \n",
    "- Colocar o nome do dicionário, a chave e saida,\n",
    "- No dicionário pode adicionar novos dados. \n",
    "- Repetir / inteirar/loop\n",
    "precisa ter uma repetição \n",
    "- é preciso definir 2 variaveis, chave e valor (exemplo for apartamento, quantidade in apartamentos)\n",
    "- concatenação e interpolação\n"
   ]
  },
  {
   "cell_type": "code",
   "execution_count": 1,
   "metadata": {},
   "outputs": [
    {
     "data": {
      "text/plain": [
       "list"
      ]
     },
     "execution_count": 1,
     "metadata": {},
     "output_type": "execute_result"
    }
   ],
   "source": [
    "lista_times = [\"vasco\", \"flamengo\", \"fluminense\", \"são paulo\"]\n",
    "type(lista_times)"
   ]
  },
  {
   "cell_type": "code",
   "execution_count": 2,
   "metadata": {},
   "outputs": [
    {
     "data": {
      "text/plain": [
       "tuple"
      ]
     },
     "execution_count": 2,
     "metadata": {},
     "output_type": "execute_result"
    }
   ],
   "source": [
    "tupla_times = (\"vasco\", \"flamengo\", \"fluminense\", \"são paulo\")\n",
    "type(tupla_times)"
   ]
  },
  {
   "cell_type": "code",
   "execution_count": 4,
   "metadata": {},
   "outputs": [
    {
     "data": {
      "text/plain": [
       "{'flamengo', 'fluminense', 'são paulo', 'vasco'}"
      ]
     },
     "execution_count": 4,
     "metadata": {},
     "output_type": "execute_result"
    }
   ],
   "source": [
    "conjunto_times = {\"vasco\", \"flamengo\", \"fluminense\", \"são paulo\", \"vasco\"}\n",
    "#type(lista_times)\n",
    "conjunto_times"
   ]
  },
  {
   "cell_type": "code",
   "execution_count": null,
   "metadata": {},
   "outputs": [],
   "source": []
  }
 ],
 "metadata": {
  "kernelspec": {
   "display_name": ".venv",
   "language": "python",
   "name": "python3"
  },
  "language_info": {
   "codemirror_mode": {
    "name": "ipython",
    "version": 3
   },
   "file_extension": ".py",
   "mimetype": "text/x-python",
   "name": "python",
   "nbconvert_exporter": "python",
   "pygments_lexer": "ipython3",
   "version": "3.12.4"
  }
 },
 "nbformat": 4,
 "nbformat_minor": 2
}
