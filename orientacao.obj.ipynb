{
 "cells": [
  {
   "cell_type": "markdown",
   "metadata": {},
   "source": [
    "Orientação a objetos\n",
    "-Paradigma\n",
    "-Objeto\n",
    "-Classe\n",
    "-Método\n",
    "-Herança\n",
    "-Polimorfismo\n",
    "-Encapsulamento\n"
   ]
  },
  {
   "cell_type": "markdown",
   "metadata": {},
   "source": [
    "# Conceito de Orientação a objeto\n",
    "São subdivididos em classes e objetos. \n",
    "Pode- se dizer que a programação orientada a objeto (POO) é um paradigma, ou seja, um modelo  de programação baseada no conceito de objetos que organiza todo código em torno de objetos.\n"
   ]
  },
  {
   "cell_type": "markdown",
   "metadata": {},
   "source": [
    "# Objeto\n",
    "Um objeto é uma instância de uma classe. Ele pode representar entidades do mundo real (como um carro ou uma pessoa) ou entidades abstratas (como uma temperatura ou uma configuração). Objetos possuem atributos (dados) e métodos (funções) que definem seus comportamentos.\n"
   ]
  },
  {
   "cell_type": "markdown",
   "metadata": {},
   "source": [
    "\n",
    "\n",
    "# Classe\n",
    "Uma classe é uma estrutura que define um tipo de objeto, especificando os atributos e métodos que esse tipo de objeto pode ter. Ela serve como um modelo ou plano para a criação de objetos. Em Python, uma classe é definida usando a palavra-chave classe.\n"
   ]
  },
  {
   "cell_type": "code",
   "execution_count": null,
   "metadata": {},
   "outputs": [],
   "source": [
    "vendedor = \"Lira\"\n",
    "vendas = 1000\n",
    "meta = 500\n",
    "\n",
    "if vendas >= meta:\n",
    "    print(\"BATEU A META\")\n",
    "else:\n",
    "    print(\"Não bateu a meta.\")\n",
    "\n",
    "class vendedor():\n",
    "    def __init__(self, nome):\n",
    "        self.nome = nome\n",
    "        self.vendas = 0\n",
    "\n",
    "    def vendeu(self, vendas):\n",
    "        self.vendas = vendas\n",
    "\n",
    "    def bateu_meta(sel, meta):\n",
    "        if self.vendas > meta:\n",
    "            print(self.nome, \"Bateu a meta.\")\n",
    "        else: \n",
    "            print(self.nome, \"Não bateu a meta.\")\n",
    "\n",
    "vendedor1 = vendedor(\"Lira\")\n",
    "vendedor1.vendeu(1000)\n",
    "vendedor1.bateu_meta(600)\n",
    "print(vendedor1.nome)\n",
    "\n",
    "vendedor2 = vendedor(\"joana\")\n",
    "vendedor2.bateu_meta(600)\n",
    "print(vendedor2.nome)"
   ]
  },
  {
   "cell_type": "markdown",
   "metadata": {},
   "source": [
    "\n",
    "# Método\n",
    "Um método é uma função definida dentro de uma classe que descreve os comportamentos de um objeto. Métodos permitem que os objetos realizem ações e interajam com seus próprios dados. Em Python, métodos são definidos como funções dentro da classe e geralmente recebem self como o primeiro parâmetro.\n"
   ]
  },
  {
   "cell_type": "markdown",
   "metadata": {},
   "source": [
    "\n",
    "# Herança\n",
    "A herança é um mecanismo que permite que uma classe (chamada de subclasse) herde atributos e métodos de outra classe (chamada de superclasse). Isso promove a reutilização de código e a criação de hierarquias de classes. Por exemplo, uma classe Carro pode herdar de uma classe Veiculo, adquirindo seus atributos e métodos.\n"
   ]
  },
  {
   "cell_type": "markdown",
   "metadata": {},
   "source": [
    "\n",
    "# Polimorfismo\n",
    "O polimorfismo permite que objetos de diferentes classes sejam tratados como objetos de uma classe comum. Isso é possível porque diferentes classes podem implementar métodos com o mesmo nome, mas com comportamentos diferentes. Em Python, isso é frequentemente usado com métodos sobrescritos em subclasses.\n"
   ]
  },
  {
   "cell_type": "markdown",
   "metadata": {},
   "source": [
    "\n",
    "# Encapsulamento\n",
    "O encapsulamento é o princípio de esconder os detalhes internos de um objeto e expor apenas o que é necessário para o uso externo. Isso é feito através de modificadores de acesso, como atributos privados (prefixados com _ ou __ em Python) e métodos públicos. O encapsulamento ajuda a proteger os dados e a manter a integridade do objeto."
   ]
  },
  {
   "cell_type": "code",
   "execution_count": null,
   "metadata": {},
   "outputs": [],
   "source": []
  }
 ],
 "metadata": {
  "kernelspec": {
   "display_name": "Python 3",
   "language": "python",
   "name": "python3"
  },
  "language_info": {
   "codemirror_mode": {
    "name": "ipython",
    "version": 3
   },
   "file_extension": ".py",
   "mimetype": "text/x-python",
   "name": "python",
   "nbconvert_exporter": "python",
   "pygments_lexer": "ipython3",
   "version": "3.12.4"
  }
 },
 "nbformat": 4,
 "nbformat_minor": 2
}
