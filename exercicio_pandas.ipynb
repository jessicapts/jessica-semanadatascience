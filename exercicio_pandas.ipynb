{
 "cells": [
  {
   "cell_type": "markdown",
   "metadata": {},
   "source": [
    "# Competências pandas\n",
    "\n",
    "- Enrender as funções básicas\n",
    "- Ultilizar as funções básicas\n",
    "- Renomear colunas\n",
    "- Selecionar colunas e linhas\n",
    "- Adicionar e remover colunas\n",
    "- Realizar consultas\n",
    "- Ordenar itens\n",
    "- Combinar e concatenar DataFrame\n",
    "- Salvar DataFrames"
   ]
  },
  {
   "cell_type": "markdown",
   "metadata": {},
   "source": [
    "### Entender as funções básicas\n",
    "\n",
    "- head() - retorna as primeiras n linhas de um DataFrame\n",
    "- tail() - Retorna as últimas n linhas de um DataFrame\n",
    "- shape - as primeiras n de linhas e colunas\n",
    "- info() - número de colunas, contagem de células, tipo e memória usada.\n",
    "- colums: mostra todas as colunas\n",
    "- count(): conta as células preenchidas\n",
    "- describe(): Retorna medidas estatisticas sobre as colunas (média, percentis 50% mediana desvio padrão)"
   ]
  },
  {
   "cell_type": "code",
   "execution_count": 3,
   "metadata": {},
   "outputs": [
    {
     "name": "stdout",
     "output_type": "stream",
     "text": [
      "Collecting pandas\n",
      "  Using cached pandas-2.2.2-cp312-cp312-win_amd64.whl.metadata (19 kB)\n",
      "Collecting numpy>=1.26.0 (from pandas)\n",
      "  Downloading numpy-2.0.1-cp312-cp312-win_amd64.whl.metadata (60 kB)\n",
      "     ---------------------------------------- 0.0/60.9 kB ? eta -:--:--\n",
      "     ---------------------------------------- 60.9/60.9 kB 3.2 MB/s eta 0:00:00\n",
      "Requirement already satisfied: python-dateutil>=2.8.2 in c:\\users\\ead\\desktop\\tarde_exercicio_jessica\\.venv\\lib\\site-packages (from pandas) (2.9.0.post0)\n",
      "Collecting pytz>=2020.1 (from pandas)\n",
      "  Using cached pytz-2024.1-py2.py3-none-any.whl.metadata (22 kB)\n",
      "Collecting tzdata>=2022.7 (from pandas)\n",
      "  Using cached tzdata-2024.1-py2.py3-none-any.whl.metadata (1.4 kB)\n",
      "Requirement already satisfied: six>=1.5 in c:\\users\\ead\\desktop\\tarde_exercicio_jessica\\.venv\\lib\\site-packages (from python-dateutil>=2.8.2->pandas) (1.16.0)\n",
      "Using cached pandas-2.2.2-cp312-cp312-win_amd64.whl (11.5 MB)\n",
      "Downloading numpy-2.0.1-cp312-cp312-win_amd64.whl (16.3 MB)\n",
      "   ---------------------------------------- 0.0/16.3 MB ? eta -:--:--\n",
      "    --------------------------------------- 0.4/16.3 MB 11.9 MB/s eta 0:00:02\n",
      "   - -------------------------------------- 0.6/16.3 MB 9.4 MB/s eta 0:00:02\n",
      "   --- ------------------------------------ 1.2/16.3 MB 8.7 MB/s eta 0:00:02\n",
      "   --- ------------------------------------ 1.6/16.3 MB 9.3 MB/s eta 0:00:02\n",
      "   ----- ---------------------------------- 2.3/16.3 MB 10.4 MB/s eta 0:00:02\n",
      "   ------- -------------------------------- 2.9/16.3 MB 10.7 MB/s eta 0:00:02\n",
      "   -------- ------------------------------- 3.4/16.3 MB 10.4 MB/s eta 0:00:02\n",
      "   --------- ------------------------------ 4.0/16.3 MB 11.1 MB/s eta 0:00:02\n",
      "   ----------- ---------------------------- 4.5/16.3 MB 11.1 MB/s eta 0:00:02\n",
      "   ------------ --------------------------- 5.1/16.3 MB 11.2 MB/s eta 0:00:02\n",
      "   ------------- -------------------------- 5.6/16.3 MB 11.3 MB/s eta 0:00:01\n",
      "   --------------- ------------------------ 6.2/16.3 MB 11.3 MB/s eta 0:00:01\n",
      "   ---------------- ----------------------- 6.7/16.3 MB 11.3 MB/s eta 0:00:01\n",
      "   ----------------- ---------------------- 7.3/16.3 MB 11.1 MB/s eta 0:00:01\n",
      "   ------------------- -------------------- 7.9/16.3 MB 11.2 MB/s eta 0:00:01\n",
      "   -------------------- ------------------- 8.4/16.3 MB 11.3 MB/s eta 0:00:01\n",
      "   ---------------------- ----------------- 9.0/16.3 MB 11.3 MB/s eta 0:00:01\n",
      "   ----------------------- ---------------- 9.6/16.3 MB 11.3 MB/s eta 0:00:01\n",
      "   ------------------------ --------------- 10.1/16.3 MB 11.4 MB/s eta 0:00:01\n",
      "   -------------------------- ------------- 10.7/16.3 MB 11.5 MB/s eta 0:00:01\n",
      "   --------------------------- ------------ 11.3/16.3 MB 11.9 MB/s eta 0:00:01\n",
      "   ----------------------------- ---------- 11.8/16.3 MB 11.9 MB/s eta 0:00:01\n",
      "   ------------------------------ --------- 12.4/16.3 MB 11.9 MB/s eta 0:00:01\n",
      "   ------------------------------- -------- 12.9/16.3 MB 11.7 MB/s eta 0:00:01\n",
      "   --------------------------------- ------ 13.5/16.3 MB 11.9 MB/s eta 0:00:01\n",
      "   ---------------------------------- ----- 14.0/16.3 MB 11.7 MB/s eta 0:00:01\n",
      "   ----------------------------------- ---- 14.6/16.3 MB 11.9 MB/s eta 0:00:01\n",
      "   ------------------------------------- -- 15.1/16.3 MB 11.9 MB/s eta 0:00:01\n",
      "   -------------------------------------- - 15.7/16.3 MB 11.9 MB/s eta 0:00:01\n",
      "   ---------------------------------------  16.3/16.3 MB 11.7 MB/s eta 0:00:01\n",
      "   ---------------------------------------- 16.3/16.3 MB 11.5 MB/s eta 0:00:00\n",
      "Using cached pytz-2024.1-py2.py3-none-any.whl (505 kB)\n",
      "Using cached tzdata-2024.1-py2.py3-none-any.whl (345 kB)\n",
      "Installing collected packages: pytz, tzdata, numpy, pandas\n",
      "Successfully installed numpy-2.0.1 pandas-2.2.2 pytz-2024.1 tzdata-2024.1\n"
     ]
    }
   ],
   "source": [
    "! pip install pandas"
   ]
  },
  {
   "cell_type": "code",
   "execution_count": 4,
   "metadata": {},
   "outputs": [],
   "source": [
    "import pandas as pd"
   ]
  },
  {
   "cell_type": "code",
   "execution_count": null,
   "metadata": {},
   "outputs": [],
   "source": [
    "url = \"dataset/controlegastoss.csv\"\n",
    "pd.read_csv(url)\n"
   ]
  }
 ],
 "metadata": {
  "kernelspec": {
   "display_name": ".venv",
   "language": "python",
   "name": "python3"
  },
  "language_info": {
   "codemirror_mode": {
    "name": "ipython",
    "version": 3
   },
   "file_extension": ".py",
   "mimetype": "text/x-python",
   "name": "python",
   "nbconvert_exporter": "python",
   "pygments_lexer": "ipython3",
   "version": "3.12.4"
  }
 },
 "nbformat": 4,
 "nbformat_minor": 2
}
