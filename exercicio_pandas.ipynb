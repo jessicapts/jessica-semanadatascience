{
 "cells": [
  {
   "cell_type": "markdown",
   "metadata": {},
   "source": [
    "# Competências pandas\n",
    "\n",
    "- Enrender as funções básicas\n",
    "- Ultilizar as funções básicas\n",
    "- Renomear colunas\n",
    "- Selecionar colunas e linhas\n",
    "- Adicionar e remover colunas\n",
    "- Realizar consultas\n",
    "- Ordenar itens\n",
    "- Combinar e concatenar DataFrame\n",
    "- Salvar DataFrames"
   ]
  },
  {
   "cell_type": "markdown",
   "metadata": {},
   "source": [
    "### Entender as funções básicas\n",
    "\n",
    "- head() - retorna as primeiras n linhas de um DataFrame\n",
    "- tail() - Retorna as últimas n linhas de um DataFrame\n",
    "- shape - as primeiras n de linhas e colunas\n",
    "- info() - número de colunas, contagem de células, tipo e memória usada.\n",
    "- colums: mostra todas as colunas\n",
    "- count(): conta as células preenchidas\n",
    "- describe(): Retorna medidas estatisticas sobre as colunas (média, percentis 50% mediana desvio padrão)"
   ]
  },
  {
   "cell_type": "code",
   "execution_count": null,
   "metadata": {},
   "outputs": [],
   "source": [
    "! pip install pandas"
   ]
  },
  {
   "cell_type": "code",
   "execution_count": 4,
   "metadata": {},
   "outputs": [],
   "source": [
    "import pandas as pd"
   ]
  },
  {
   "cell_type": "code",
   "execution_count": null,
   "metadata": {},
   "outputs": [],
   "source": [
    "url = \"dataset/controlegastoss.csv\"\n",
    "pd.read_csv(url, sep=\";\")\n"
   ]
  },
  {
   "cell_type": "markdown",
   "metadata": {},
   "source": [
    "- head() - retorna as primeiras n linhas de um DataFrame"
   ]
  },
  {
   "cell_type": "code",
   "execution_count": null,
   "metadata": {},
   "outputs": [],
   "source": [
    "dados.head()"
   ]
  },
  {
   "cell_type": "markdown",
   "metadata": {},
   "source": [
    "- tail() - Retorna as últimas n linhas de um DataFrame"
   ]
  },
  {
   "cell_type": "code",
   "execution_count": null,
   "metadata": {},
   "outputs": [],
   "source": [
    "dados.tail()"
   ]
  },
  {
   "cell_type": "markdown",
   "metadata": {},
   "source": [
    "- shape - Retorna uma tupla que representa as dimensões de um DataFrame (número de linhas e colunas)\n",
    " Shape: É uma propriedade então não precisa de (). Propriedade é um adjetivo/atributo. Quando tiver ( ) é um métódo (método é uma função dentro do objeto)\n",
    " Parenteses:()"
   ]
  },
  {
   "cell_type": "markdown",
   "metadata": {},
   "source": [
    "dados.shape"
   ]
  },
  {
   "cell_type": "markdown",
   "metadata": {},
   "source": [
    "- info() - número de colunas, contagem de células, tipo e memória usada. Info é um método"
   ]
  },
  {
   "cell_type": "code",
   "execution_count": null,
   "metadata": {},
   "outputs": [],
   "source": [
    "dados.info()"
   ]
  },
  {
   "cell_type": "markdown",
   "metadata": {},
   "source": [
    "- colums: mostra todas as colunas"
   ]
  },
  {
   "cell_type": "code",
   "execution_count": null,
   "metadata": {},
   "outputs": [],
   "source": [
    "dados.colums()"
   ]
  }
 ],
 "metadata": {
  "kernelspec": {
   "display_name": ".venv",
   "language": "python",
   "name": "python3"
  },
  "language_info": {
   "codemirror_mode": {
    "name": "ipython",
    "version": 3
   },
   "file_extension": ".py",
   "mimetype": "text/x-python",
   "name": "python",
   "nbconvert_exporter": "python",
   "pygments_lexer": "ipython3",
   "version": "3.12.4"
  }
 },
 "nbformat": 4,
 "nbformat_minor": 2
}
