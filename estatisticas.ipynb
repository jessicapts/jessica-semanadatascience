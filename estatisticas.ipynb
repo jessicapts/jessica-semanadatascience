{
 "cells": [
  {
   "cell_type": "markdown",
   "metadata": {},
   "source": [
    "Estatística\n",
    "\t\n",
    "-Média\n",
    "-Mediana\n",
    "-Moda\n",
    "-Quartis\n",
    "-Desvio Padrão\n"
   ]
  },
  {
   "cell_type": "markdown",
   "metadata": {},
   "source": [
    "# Média:\n",
    "A média (Me) é calculada somando-se todos os valores de um conjunto de dados e dividindo-se pelo número de elementos deste conjunto."
   ]
  },
  {
   "cell_type": "markdown",
   "metadata": {},
   "source": [
    "# Mediana\n",
    "A Mediana (Md) representa o valor central de um conjunto de dados. Para encontrar o valor da mediana é necessário colocar os valores em ordem crescente ou decrescente.\n",
    "Quando o número elementos de um conjunto é par, a mediana é encontrada pela média dos dois valores centrais. Assim, esses valores são somados e divididos por dois.\n",
    "# Exemplo 1: \n",
    "Em uma escola, o professor de educação física anotou a altura de um grupo de alunos. Considerando que os valores medidos foram: 1,54 m; 1,67 m, 1,50 m; 1,65 m; 1,75 m; 1,69 m; 1,60 m; 1,55 m e 1,78 m, qual o valor da mediana das alturas dos alunos?\n",
    "- Primeiro devemos colocar os valores em ordem. Neste caso, colocaremos em ordem crescente. Assim, o conjunto de dados ficará:\n",
    "1,50; 1,54; 1,55; 1,60; 1,65; 1,67; 1,69; 1,75; 1,78\n",
    "Como o conjunto é formado por 9 elementos, que é um número ímpar, então a mediana será igual ao 5º elemento, ou seja: Md = 1,65 m.\n",
    "# Exemplo 2: \n",
    "Calcule o valor da mediana da seguinte amostra de dados: (32, 27, 15, 44, 15, 32).\n",
    "Primeiro precisamos colocar os dados em ordem, assim temos:\n",
    "15, 15, 27, 32, 32, 44\n",
    "Como essa amostra é formada por 6 elementos, que é um número par, a mediana será igual a média dos elementos centrais, ou seja:\n",
    "md = (27+32)/2 = 59/2 = 29,5\n"
   ]
  },
  {
   "cell_type": "markdown",
   "metadata": {},
   "source": [
    "# Moda\n",
    "A Moda (Mo) representa o valor mais frequente de um conjunto de dados, sendo assim, para defini-la basta observar a frequência com que os valores aparecem.\n",
    "Um conjunto de dados é chamado de bimodal quando apresenta duas modas, ou seja, dois valores são mais frequentes.\n",
    "Exemplo: Em uma sapataria durante um dia foram vendidos os seguintes números de sapato: 34, 39, 36, 35, 37, 40, 36, 38, 36, 38 e 41. Observando os números vendidos notamos que o número 36 foi o que apresentou maior frequência (3 pares), portanto, a moda é igual a:\n",
    "Mo = 36"
   ]
  },
  {
   "cell_type": "markdown",
   "metadata": {},
   "source": [
    "# Quartis"
   ]
  },
  {
   "cell_type": "markdown",
   "metadata": {},
   "source": [
    "# Desvio Padrão\n",
    "\"O desvio-padrão é uma medida de dispersão adotada em Estatística. Seu uso está atrelado à interpretação da variância, que também é uma medida de dispersão.\n",
    "Na prática, o desvio-padrão determina um intervalo, centrado na média aritmética, no qual a maior parte dos dados está concentrada. Desse modo, quanto maior o valor do desvio-padrão, maior a irregularidade dos dados (informações mais heterogêneas), e quanto menor o valor do desvio-padrão, menor a irregularidade dos dados (informações mais homogêneas)."
   ]
  },
  {
   "cell_type": "markdown",
   "metadata": {},
   "source": [
    "fontes:\n",
    "https://brasilescola.uol.com.br/matematica/desvio-padrao.htm\n",
    "https://brasilescola.uol.com.br/matematica/moda-media-mediana.htm\n"
   ]
  }
 ],
 "metadata": {
  "language_info": {
   "name": "python"
  }
 },
 "nbformat": 4,
 "nbformat_minor": 2
}
