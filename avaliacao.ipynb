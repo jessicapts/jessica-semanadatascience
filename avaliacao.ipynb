{
 "cells": [
  {
   "cell_type": "code",
   "execution_count": 41,
   "metadata": {},
   "outputs": [
    {
     "name": "stdout",
     "output_type": "stream",
     "text": [
      "Requirement already satisfied: pandas in c:\\users\\ead\\desktop\\avaliacao\\.venv\\lib\\site-packages (2.2.2)\n",
      "Requirement already satisfied: numpy>=1.26.0 in c:\\users\\ead\\desktop\\avaliacao\\.venv\\lib\\site-packages (from pandas) (2.0.1)\n",
      "Requirement already satisfied: python-dateutil>=2.8.2 in c:\\users\\ead\\desktop\\avaliacao\\.venv\\lib\\site-packages (from pandas) (2.9.0.post0)\n",
      "Requirement already satisfied: pytz>=2020.1 in c:\\users\\ead\\desktop\\avaliacao\\.venv\\lib\\site-packages (from pandas) (2024.1)\n",
      "Requirement already satisfied: tzdata>=2022.7 in c:\\users\\ead\\desktop\\avaliacao\\.venv\\lib\\site-packages (from pandas) (2024.1)\n",
      "Requirement already satisfied: six>=1.5 in c:\\users\\ead\\desktop\\avaliacao\\.venv\\lib\\site-packages (from python-dateutil>=2.8.2->pandas) (1.16.0)\n"
     ]
    }
   ],
   "source": [
    "! pip install pandas"
   ]
  },
  {
   "cell_type": "code",
   "execution_count": 42,
   "metadata": {},
   "outputs": [],
   "source": [
    "import pandas as pd"
   ]
  },
  {
   "cell_type": "markdown",
   "metadata": {},
   "source": [
    "# Qual o objetivo do dataset? (Colocar no inicio do notebook)\n",
    "\n",
    "Este conjunto de dados contém colunas que simulam informações utilizadas por agências de crédito para avaliar a elegibilidade de um empréstimo."
   ]
  },
  {
   "cell_type": "markdown",
   "metadata": {},
   "source": [
    "# Crie um notebook com o dataset Credit Risk Dataset;\n"
   ]
  },
  {
   "cell_type": "markdown",
   "metadata": {},
   "source": [
    "# Importando os dados"
   ]
  },
  {
   "cell_type": "code",
   "execution_count": 43,
   "metadata": {},
   "outputs": [],
   "source": [
    "url = \"credito.csv\"\n",
    "df = pd.read_csv(url)"
   ]
  },
  {
   "cell_type": "code",
   "execution_count": 44,
   "metadata": {},
   "outputs": [],
   "source": [
    "df = pd.read_csv(\"credito.csv\")"
   ]
  },
  {
   "cell_type": "code",
   "execution_count": 58,
   "metadata": {},
   "outputs": [
    {
     "name": "stdout",
     "output_type": "stream",
     "text": [
      "   idade_personagem  renda_anual Propriedade_da_Casa  Duracao_do_Emprego  \\\n",
      "0                22        59000                RENT               123.0   \n",
      "1                21         9600                 OWN                 5.0   \n",
      "2                25         9600            MORTGAGE                 1.0   \n",
      "3                23        65500                RENT                 4.0   \n",
      "4                24        54400                RENT                 8.0   \n",
      "\n",
      "  Intencao_de_emprestimo Grau_emprestimo  Valor_emprestimo  Taxa_juros  \\\n",
      "0               PERSONAL               D             35000       16.02   \n",
      "1              EDUCATION               B              1000       11.14   \n",
      "2                MEDICAL               C              5500       12.87   \n",
      "3                MEDICAL               C             35000       15.23   \n",
      "4                MEDICAL               C             35000       14.27   \n",
      "\n",
      "   Status_emprestimo  Renda Percentual historico_inadimplencia  \\\n",
      "0                  1              0.59                       Y   \n",
      "1                  0              0.10                       N   \n",
      "2                  1              0.57                       N   \n",
      "3                  1              0.53                       N   \n",
      "4                  1              0.55                       Y   \n",
      "\n",
      "   duracao_historico_credito  \n",
      "0                          3  \n",
      "1                          2  \n",
      "2                          3  \n",
      "3                          2  \n",
      "4                          4  \n"
     ]
    }
   ],
   "source": [
    "print(df.head())"
   ]
  },
  {
   "cell_type": "markdown",
   "metadata": {},
   "source": [
    "# Colunas do Dataset"
   ]
  },
  {
   "cell_type": "code",
   "execution_count": null,
   "metadata": {},
   "outputs": [],
   "source": [
    "dados.columns"
   ]
  },
  {
   "cell_type": "markdown",
   "metadata": {},
   "source": [
    "# - Transformar o Dataset inglês em um dataframe português. "
   ]
  },
  {
   "cell_type": "code",
   "execution_count": 50,
   "metadata": {},
   "outputs": [],
   "source": [
    "df = df.rename(columns={'person_age': 'idade_personagem', 'person_income': 'renda_anual', 'person_home_ownership': 'Propriedade_da_Casa','person_emp_length': 'Duracao_do_Emprego',  'loan_intent': 'Intencao_de_emprestimo',\n",
    "    'loan_grade': 'Grau_emprestimo','loan_amnt': 'Valor_emprestimo', 'loan_int_rate': 'Taxa_juros', 'loan_status': 'Status_emprestimo', 'loan_percent_income': 'Renda Percentual', 'cb_person_default_on_file': 'historico_inadimplencia', 'cb_preson_cred_hist_length':'duracao_historico_credito'})"
   ]
  },
  {
   "cell_type": "code",
   "execution_count": 57,
   "metadata": {},
   "outputs": [],
   "source": [
    "df = df.rename(columns={'cb_person_cred_hist_length':'duracao_historico_credito'})"
   ]
  },
  {
   "cell_type": "markdown",
   "metadata": {},
   "source": [
    "# Análise exploratória (EDA)\n",
    "- Quais variáveis são qualitativas?\n",
    "- Quais variáveis são nominais?\n",
    "- Quais variáveis são quantitativas discreta e continuas?"
   ]
  },
  {
   "cell_type": "markdown",
   "metadata": {},
   "source": [
    "# Variaveis qualitativas:  \n",
    ". Idade do personagem;\n",
    ". Renda anual;\n",
    ". Duração do empréstimo;\n",
    ". Valor do empréstimo;\n",
    ". Taxa de juros;\n",
    ". Renda percentual.\n",
    ". Status do empréstimo.\n",
    ". Duração do histórico de crédito.\n"
   ]
  },
  {
   "cell_type": "markdown",
   "metadata": {},
   "source": [
    "# Variaveis nominais:\n",
    ". Propriedade da casa;\n",
    ". Intenção do empréstimo;\n",
    ". Grau do emprestimo; \n",
    ". histórico de inadimplência. \n"
   ]
  },
  {
   "cell_type": "markdown",
   "metadata": {},
   "source": [
    "# Variaveis quantitativas discretas\n",
    ". Idade do personagem;\n",
    ". Duração do empréstimo;\n",
    ". Status do empréstimo\n",
    ". Duração do histórico de créditos\n"
   ]
  },
  {
   "cell_type": "markdown",
   "metadata": {},
   "source": [
    "# Variaveis quantitativas continuas\n",
    ". Renda anual;\n",
    ". Valor do empréstimo;\n",
    ". taxa de Juros;\n",
    ". Renda Percentual"
   ]
  },
  {
   "cell_type": "markdown",
   "metadata": {},
   "source": [
    "# - Fazer uma descrição \n",
    "(método describe)\n",
    "colocar uma pesquisa: O que é quartil? O que é percentil? O que é média? O que é mediana?  com essa pesquisa explicar o gráfico. \n",
    "Atenção com a variavel (Loan_status) pois será usada na IA.\n",
    "\n",
    "- Quartil:\n",
    "Quartis são valores que dividem o conjunto de dados em quatro partes iguais. Cada quartil representa 25% da distribuição dos dados. Os principais são:\n",
    "Q1 (25%): 25% dos dados são menores ou iguais a este valor.\n",
    "Q2 (50%): Também conhecido como mediana, é o valor que separa a metade superior da metade inferior dos dados.\n",
    "Q3 (75%): 75% dos dados são menores ou iguais a este valor.\n",
    ". Código: \n",
    "Q1 = df['coluna'].quantile(0.25)  # Primeiro quartil (25%)\n",
    "Q2 = df['coluna'].quantile(0.50)  # Segundo quartil (50%) - Mediana\n",
    "Q3 = df['coluna'].quantile(0.75)  # Terceiro quartil (75%)\n",
    "\n",
    "- Percentil:\n",
    "Percentis são valores que dividem os dados em 100 partes iguais. Por exemplo, o 90º percentil é o valor abaixo do qual 90% dos dados estão localizados. Percentis são úteis para entender a distribuição dos dados e identificar onde um valor se encontra em relação ao conjunto de dados.\n",
    ". Suponha que df seja o seu DataFrame e 'coluna' a coluna que você quer analisar\n",
    "percentil_90 = np.percentile(df['coluna'], 90)  # 90º percentil\n",
    "print(f\"90º Percentil: {percentil_90}\")\n",
    "\n",
    "- Média:\n",
    "A média, ou média aritmética, é a soma de todos os valores dividida pelo número total de valores. Ela oferece uma medida central da distribuição dos dados, mas pode ser afetada por valores extremos (outliers).\n",
    ". # Suponha que df seja o seu DataFrame e 'coluna' a coluna que você quer analisar\n",
    "media = df['coluna'].mean()\n",
    "print(f\"Média: {media}\")\n",
    "\n",
    "- Mediana:\n",
    "A mediana é o valor central de um conjunto de dados ordenado. Se o número de valores for ímpar, a mediana é o valor do meio. Se for par, é a média dos dois valores centrais. A mediana é útil para descrever a tendência central dos dados quando há outliers, pois não é tão sensível a valores extremos quanto a média.\n",
    "mediana = df['coluna'].median()\n",
    "print(f\"Mediana: {mediana}\")"
   ]
  },
  {
   "cell_type": "code",
   "execution_count": null,
   "metadata": {},
   "outputs": [],
   "source": [
    "import numpy as np"
   ]
  },
  {
   "cell_type": "markdown",
   "metadata": {},
   "source": [
    "# Quais pessoas ganham acima? (Máximo e minímo)"
   ]
  },
  {
   "cell_type": "code",
   "execution_count": null,
   "metadata": {},
   "outputs": [],
   "source": [
    "renda_maxima = df['renda_anual'].max()\n",
    "renda_minima = df['renda_anual'].min()"
   ]
  },
  {
   "cell_type": "code",
   "execution_count": null,
   "metadata": {},
   "outputs": [
    {
     "name": "stdout",
     "output_type": "stream",
     "text": [
      "Renda Máxima: 6000000\n",
      "Renda Mínima: 4000\n"
     ]
    }
   ],
   "source": [
    "print(f\"Renda Máxima: {renda_maxima}\")\n",
    "print(f\"Renda Mínima: {renda_minima}\")"
   ]
  },
  {
   "cell_type": "markdown",
   "metadata": {},
   "source": [
    "# # Quais pessoas ganham um valor acima?"
   ]
  },
  {
   "cell_type": "code",
   "execution_count": null,
   "metadata": {},
   "outputs": [],
   "source": [
    "pessoas_com_renda_maxima = df[df['renda_anual'] == renda_maxima]"
   ]
  },
  {
   "cell_type": "code",
   "execution_count": null,
   "metadata": {},
   "outputs": [
    {
     "name": "stdout",
     "output_type": "stream",
     "text": [
      "       idade do personagem  renda_anual Propriedade_da_Casa  \\\n",
      "32297                  144      6000000            MORTGAGE   \n",
      "\n",
      "       Duracao_do_Emprego Intencao_de_emprestimo Grau_emprestimo  \\\n",
      "32297                12.0               PERSONAL               C   \n",
      "\n",
      "       Valor_emprestimo  Taxa_juros  Status_emprestimo  Renda Percentual  \\\n",
      "32297              5000       12.73                  0               0.0   \n",
      "\n",
      "      historico_inadimplencia  cb_person_cred_hist_length  \n",
      "32297                       N                          25  \n"
     ]
    }
   ],
   "source": [
    "print(pessoas_com_renda_maxima)"
   ]
  },
  {
   "cell_type": "markdown",
   "metadata": {},
   "source": [
    "# Quais pessoas ganham um valor abaixo?\n"
   ]
  },
  {
   "cell_type": "code",
   "execution_count": null,
   "metadata": {},
   "outputs": [],
   "source": [
    "renda_minima = '4000'"
   ]
  },
  {
   "cell_type": "code",
   "execution_count": null,
   "metadata": {},
   "outputs": [],
   "source": [
    "pessoas_com_renda_minima = df[df['renda_anual'] <= renda_minima]"
   ]
  },
  {
   "cell_type": "markdown",
   "metadata": {},
   "source": [
    "# Quais pessoas apresentam um risco elevado ao conceder um empréstimo? (Verificar as colunas: Idade, renda e histórico de inadimplencia)"
   ]
  },
  {
   "cell_type": "markdown",
   "metadata": {},
   "source": [
    "# Aplicar funções básicas do pandas e um gráfico com Matipotilib."
   ]
  },
  {
   "cell_type": "markdown",
   "metadata": {},
   "source": [
    "# Se der tempo, criar um modelo conceitual, lógico e físico. "
   ]
  }
 ],
 "metadata": {
  "kernelspec": {
   "display_name": ".venv",
   "language": "python",
   "name": "python3"
  },
  "language_info": {
   "codemirror_mode": {
    "name": "ipython",
    "version": 3
   },
   "file_extension": ".py",
   "mimetype": "text/x-python",
   "name": "python",
   "nbconvert_exporter": "python",
   "pygments_lexer": "ipython3",
   "version": "3.12.5"
  }
 },
 "nbformat": 4,
 "nbformat_minor": 2
}
