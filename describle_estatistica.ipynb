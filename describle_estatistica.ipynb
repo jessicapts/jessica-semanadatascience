{
 "cells": [
  {
   "cell_type": "markdown",
   "metadata": {},
   "source": [
    "# describe(): \n",
    "Retorna medidas estatisticas sobre as colunas (média, percentis 50% mediana desvio padrão). Faz um resumo e oferece uma visão geral dos dados de um DataFrame, permitindo que você identifique padrões, outliers e características importantes antes de realizar análises mais profundas.\n",
    "- A função describle calcula de forma automática diversas estatisticas descritivas para cada coluna numérica de um DataFrame. As estatísticas calculadas incluem:\n"
   ]
  },
  {
   "cell_type": "markdown",
   "metadata": {},
   "source": [
    "# Contagem: Número de valores não-nulos.\n",
    "Em um DataFrame do Pandas, um \"valor não nulo\" é qualquer valor que não seja considerado \"faltante\" ou \"ausente\". Isso inclui números, textos, datas e outros tipos de dados válidos. Valores nulos são geralmente representados por NaN (Not a Number) ou None.\n",
    "- Como contar valores não nulos no Pandas?\n",
    "A forma mais comum de contar valores não nulos em um DataFrame do Pandas é utilizando o método count(). Esse método retorna uma série com o número de valores não nulos para cada coluna.\n",
    "\n"
   ]
  },
  {
   "cell_type": "code",
   "execution_count": null,
   "metadata": {},
   "outputs": [],
   "source": [
    "import pandas as pd\n",
    "\n",
    "# Criando um DataFrame com valores nulos\n",
    "data = {'Coluna1': [1, 2, None, 4], 'Coluna2': ['A', None, 'C', 'D']}\n",
    "df = pd.DataFrame(data)\n",
    "\n",
    "# Contando valores não nulos\n",
    "print(df.count())\n"
   ]
  },
  {
   "cell_type": "markdown",
   "metadata": {},
   "source": [
    "# Média: Valor médio dos dados.\n",
    "Para calcular a média de um conjunto de dados, você soma todos os valores e divide o resultado pelo número total de valores.\n",
    "Calcular a média: Encontrar o valor central dos dados.\n",
    "Calcular o desvio de cada valor em relação à média: Subtrair a média de cada valor.\n",
    "Elevar ao quadrado os desvios: Isso elimina os sinais negativos.\n",
    "Calcular a média dos desvios ao quadrado: Essa é a variância.\n",
    "Calcular a raiz quadrada da variância: O resultado é o desvio padrão\n",
    "\n",
    "- O Pandas, uma poderosa biblioteca Python para análise de dados, oferece o método mean() para calcular a média de um DataFrame ou de uma Series."
   ]
  },
  {
   "cell_type": "code",
   "execution_count": null,
   "metadata": {},
   "outputs": [],
   "source": [
    "# Criando um DataFrame de exemplo\n",
    "data = {'Coluna1': [10, 20, 30, 40], 'Coluna2': [15, 25, 35, 45]}\n",
    "df = pd.DataFrame(data)\n",
    "\n",
    "# Calculando a média de todas as colunas\n",
    "media = df.mean()\n",
    "print(media)"
   ]
  },
  {
   "cell_type": "markdown",
   "metadata": {},
   "source": [
    "# Desvio padrão: Medida de dispersão dos dados em relação à média.\n",
    "O desvio padrão é uma medida estatística que indica o quanto os dados estão \"espalhados\" em relação à média. Quanto maior o desvio padrão, mais dispersos estão os dados, ou seja, mais os valores individuais se distanciam da média.\n",
    "# calculando Desvio padrão com o pandas.\n",
    "O método std() é o principal método utilizado para calcular o desvio padrão em um DataFrame. Ele retorna uma série com o desvio padrão de cada coluna numérica.\n"
   ]
  },
  {
   "cell_type": "code",
   "execution_count": null,
   "metadata": {},
   "outputs": [],
   "source": [
    "import pandas as pd\n",
    "\n",
    "# Criando um DataFrame de exemplo\n",
    "data = {'Coluna1': [1, 2, 3, 4, 5], 'Coluna2': [10, 20, 30, 40, 50]}\n",
    "df = pd.DataFrame(data)\n",
    "\n",
    "# Calculando o desvio padrão\n",
    "desvio_padrao = df.std()\n",
    "print(desvio_padrao)\n"
   ]
  },
  {
   "cell_type": "markdown",
   "metadata": {},
   "source": [
    "# Mínimo: Menor valor.\n",
    "Em análise de dados com Pandas, encontrar o menor valor em um conjunto de dados é uma operação fundamental. Seja para identificar outliers, comparar valores ou simplesmente obter informações básicas sobre seus dados, a função min() é sua aliada.\n",
    "Identificar outliers: Valores muito abaixo do mínimo podem ser considerados outliers.\n",
    "Normalizar dados: O mínimo pode ser usado como referência para normalizar os dados.\n",
    "Encontrar valores extremos: O mínimo e o máximo juntos delimitam o intervalo dos seus dados.\n",
    "# Como encontrar o mínimo no Pandas?\n",
    "A biblioteca Pandas oferece o método min() para encontrar o menor valor em um DataFrame ou em uma Series.\n",
    "\n",
    "\n"
   ]
  },
  {
   "cell_type": "code",
   "execution_count": null,
   "metadata": {},
   "outputs": [],
   "source": [
    "import pandas as pd\n",
    "\n",
    "# Criando um DataFrame de exemplo\n",
    "data = {'Coluna1': [10, 5, 15, 8], 'Coluna2': [20, 12, 18, 15]}\n",
    "df = pd.DataFrame(data)\n",
    "\n",
    "# Encontrando o mínimo de cada coluna\n",
    "minimo_por_coluna = df.min()\n",
    "print(minimo_por_coluna)"
   ]
  },
  {
   "cell_type": "markdown",
   "metadata": {},
   "source": [
    "# Quartis: Dividem os dados em quatro partes iguais (25%, 50% e 75%).\n",
    "Imagine que você tem um conjunto de dados, como as alturas de um grupo de pessoas. Os quartis dividem esses dados em quatro partes iguais. É como dividir uma pizza em quatro fatias iguais. Cada fatia representa um quarto dos dados.\n",
    "\n",
    "Primeiro quartil (Q1): Corresponde ao valor abaixo do qual se encontram 25% dos dados.\n",
    "Segundo quartil (Q2): É a mediana, ou seja, o valor que divide os dados ao meio. 50% dos dados estão abaixo e 50% acima dele.\n",
    "Terceiro quartil (Q3): Corresponde ao valor abaixo do qual se encontram 75% dos dados.\n"
   ]
  },
  {
   "cell_type": "markdown",
   "metadata": {},
   "source": [
    "# Máximo: Maior valor.\n",
    "Em um conjunto de dados, o valor máximo é o maior número presente. É como encontrar a montanha mais alta em uma cordilheira de dados.\n",
    "- O Pandas, uma poderosa biblioteca Python para análise de dados, oferece o método max() para encontrar o maior valor em um DataFrame ou em uma Series.\n"
   ]
  },
  {
   "cell_type": "code",
   "execution_count": null,
   "metadata": {},
   "outputs": [],
   "source": [
    "import pandas as pd\n",
    "\n",
    "# Criando um DataFrame de exemplo\n",
    "data = {'Coluna1': [10, 5, 15, 8], 'Coluna2': [20, 12, 18, 15]}\n",
    "df = pd.DataFrame(data)\n",
    "\n",
    "# Encontrando o máximo de cada coluna\n",
    "maximo_por_coluna = df.max()\n",
    "print(maximo_por_coluna)\n"
   ]
  }
 ],
 "metadata": {
  "language_info": {
   "name": "python"
  }
 },
 "nbformat": 4,
 "nbformat_minor": 2
}
